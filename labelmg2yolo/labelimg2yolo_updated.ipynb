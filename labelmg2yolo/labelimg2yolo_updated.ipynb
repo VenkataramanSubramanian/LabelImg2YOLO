{
 "cells": [
  {
   "cell_type": "code",
   "execution_count": null,
   "metadata": {},
   "outputs": [],
   "source": [
    "#Import the required modules\n",
    "\n",
    "import pandas as pd\n",
    "import os\n",
    "import numpy as np\n",
    "import re"
   ]
  },
  {
   "cell_type": "code",
   "execution_count": null,
   "metadata": {},
   "outputs": [],
   "source": [
    "#Get the content of the csv to process the data from the config file\n",
    "\n",
    "content_dct={}\n",
    "with open('config.txt') as f:\n",
    "    content=f.readlines()\n",
    "    for i in content:\n",
    "        var,val = i.split('=')\n",
    "        content_dct[var.strip()]=val.strip()\n",
    "print(content_dct)"
   ]
  },
  {
   "cell_type": "code",
   "execution_count": null,
   "metadata": {},
   "outputs": [],
   "source": [
    "#Check whether the files loaded and dumped are of CSV extension\n",
    "\n",
    "if(re.search('.*?\\.[^csv]',content_dct['file_name']) or re.search('.*?\\.[^csv]',content_dct['output_csv_name'])):\n",
    "    print('Must be a CSV File')\n",
    "    raise\n",
    "    \n",
    "if(not(re.search('.*?\\.csv',content_dct['file_name']))):\n",
    "    content_dct['file_name'] = content_dct['file_name']+'.csv'\n",
    "    \n",
    "if(not(re.search('.*?\\.csv',content_dct['output_csv_name']))):\n",
    "    content_dct['output_csv_name'] = content_dct['output_csv_name']+'.csv'\n"
   ]
  },
  {
   "cell_type": "code",
   "execution_count": null,
   "metadata": {},
   "outputs": [],
   "source": [
    "flag=0"
   ]
  },
  {
   "cell_type": "code",
   "execution_count": null,
   "metadata": {},
   "outputs": [],
   "source": [
    "#load the labels as dictionary\n",
    "label_dct={}\n",
    "for ind,lab in enumerate(content_dct['class_name'].split(',')):\n",
    "    label_dct[lab]=ind\n",
    "print(label_dct)"
   ]
  },
  {
   "cell_type": "code",
   "execution_count": null,
   "metadata": {},
   "outputs": [],
   "source": [
    "#Read the Dataframe\n",
    "try:\n",
    "    int(content_dct['width'])\n",
    "    int(content_dct['height'])\n",
    "    df= pd.read_csv(content_dct['file_name'], sep=\",\",dtype={content_dct['xmin']:float,\n",
    "                                                             content_dct['ymin']:float,content_dct['xmax']:float,\n",
    "                                                             content_dct['ymax']:float})\n",
    "    flag=1\n",
    "except:\n",
    "    df= pd.read_csv(content_dct['file_name'], sep=\",\",dtype={content_dct['width']:int,content_dct['height']:int,\n",
    "                                              content_dct['xmin']:float,content_dct['ymin']:float,\n",
    "                                              content_dct['xmax']:float,content_dct['ymax']:float})\n",
    "df.head()"
   ]
  },
  {
   "cell_type": "code",
   "execution_count": null,
   "metadata": {},
   "outputs": [],
   "source": [
    "new_df=df.copy(deep=True)\n",
    "new_df.head()"
   ]
  },
  {
   "cell_type": "code",
   "execution_count": null,
   "metadata": {},
   "outputs": [],
   "source": [
    "#Map the labels to integer\n",
    "try:\n",
    "    new_df=new_df.loc[new_df['class'].isin(label_dct.keys())]\n",
    "    new_df['class']=new_df[content_dct['label']].map(label_dct)\n",
    "    print(new_df.head())\n",
    "except:\n",
    "    print('The column label mentioned in the config file doesn\\'t exist in the csv file')\n",
    "    raise"
   ]
  },
  {
   "cell_type": "code",
   "execution_count": null,
   "metadata": {},
   "outputs": [],
   "source": [
    "#converting the VOC points into yolo points\n",
    "if(flag==0):\n",
    "    try:\n",
    "        new_df['x']=((df[content_dct['xmin']]+df[content_dct['xmax']])/2)/df[content_dct['width']]\n",
    "        new_df['y']=((df[content_dct['ymin']]+df[content_dct['ymax']])/2)/df[content_dct['height']]\n",
    "        new_df['w']=(df[content_dct['xmax']]-df[content_dct['xmin']])/df[content_dct['width']]\n",
    "        new_df['h']=(df[content_dct['ymax']]-df[content_dct['ymin']])/df[content_dct['height']]\n",
    "    except:\n",
    "        print('The column mentioned in the config file doesn\\'t exist in the csv file')\n",
    "        raise\n",
    "else:\n",
    "    new_df['x']=((df[content_dct['xmin']]+df[content_dct['xmax']])/2)/int(content_dct['width'])\n",
    "    new_df['y']=((df[content_dct['ymin']]+df[content_dct['ymax']])/2)/int(content_dct['height'])\n",
    "    new_df['w']=(df[content_dct['xmax']]-df[content_dct['xmin']])/int(content_dct['width'])\n",
    "    new_df['h']=(df[content_dct['ymax']]-df[content_dct['ymin']])/int(content_dct['height'])\n",
    "new_df.head()"
   ]
  },
  {
   "cell_type": "code",
   "execution_count": null,
   "metadata": {},
   "outputs": [],
   "source": [
    "final_df=pd.DataFrame({'filename':new_df['filename'],'label':new_df['class'],'x':new_df['x'],'y':new_df['y'],'w':new_df['w'],'h':new_df['h']})\n",
    "final_df.head()"
   ]
  },
  {
   "cell_type": "code",
   "execution_count": null,
   "metadata": {},
   "outputs": [],
   "source": [
    "unique_image=final_df['filename'].unique()"
   ]
  },
  {
   "cell_type": "code",
   "execution_count": null,
   "metadata": {},
   "outputs": [],
   "source": [
    "#writting the txt file with the images of images in the specified folder\n",
    "for i in unique_image:\n",
    "    file_name=i.split('.')[0]+'.txt'\n",
    "    row_series=final_df.loc[final_df['filename']==i,'label':'h']\n",
    "    try:\n",
    "        with open(content_dct['txt_file_path']+file_name,'w') as f:\n",
    "            row_series.to_string(f,header=False,index=False)\n",
    "    except:\n",
    "        print('please check the txt file path')\n",
    "        raise"
   ]
  },
  {
   "cell_type": "code",
   "execution_count": null,
   "metadata": {},
   "outputs": [],
   "source": [
    "#writting a txt file with all the images path\n",
    "try:\n",
    "    with open(content_dct['txt_images_path']+'train.txt','w') as f:\n",
    "        for i in unique_image:\n",
    "            f.write('train/'+i+'\\n')\n",
    "except:\n",
    "    print('please check the image names file path')\n",
    "    raise"
   ]
  },
  {
   "cell_type": "code",
   "execution_count": null,
   "metadata": {},
   "outputs": [],
   "source": [
    "#saving the csv with yolo data for future use\n",
    "final_df.to_csv(content_dct['output_csv_name'],index=False)"
   ]
  }
 ],
 "metadata": {
  "kernelspec": {
   "display_name": "Python 3",
   "language": "python",
   "name": "python3"
  },
  "language_info": {
   "codemirror_mode": {
    "name": "ipython",
    "version": 3
   },
   "file_extension": ".py",
   "mimetype": "text/x-python",
   "name": "python",
   "nbconvert_exporter": "python",
   "pygments_lexer": "ipython3",
   "version": "3.6.3"
  }
 },
 "nbformat": 4,
 "nbformat_minor": 2
}
